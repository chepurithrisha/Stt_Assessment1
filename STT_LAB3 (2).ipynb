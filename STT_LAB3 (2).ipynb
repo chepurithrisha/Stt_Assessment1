{
  "nbformat": 4,
  "nbformat_minor": 0,
  "metadata": {
    "colab": {
      "provenance": [],
      "gpuType": "T4"
    },
    "kernelspec": {
      "name": "python3",
      "display_name": "Python 3"
    },
    "language_info": {
      "name": "python"
    },
    "accelerator": "GPU"
  },
  "cells": [
    {
      "cell_type": "code",
      "source": [
        "import pandas as pd\n",
        "# Load the files\n",
        "df_diffs = pd.read_csv(\"/content/file_level_diffs (1).csv\")  # contains source_before, source_current, diff\n",
        "df_rectified = pd.read_csv(\"/content/file_level_diffs_fix_types_rectified.csv\")"
      ],
      "metadata": {
        "id": "vMwFjhsjxTOy"
      },
      "execution_count": null,
      "outputs": []
    },
    {
      "cell_type": "code",
      "source": [
        "df_merged = pd.merge(\n",
        "    df_rectified,\n",
        "    df_diffs[['hash', 'filename', 'source_before', 'source_current', 'diff']],\n",
        "    on=['hash', 'filename'],\n",
        "    how='left'  # keeps all rows from rectified file\n",
        ")"
      ],
      "metadata": {
        "id": "NQsh8C5yxivh"
      },
      "execution_count": null,
      "outputs": []
    },
    {
      "cell_type": "code",
      "source": [
        "df_merged.to_csv(\"file_lab3.csv\", index=False)"
      ],
      "metadata": {
        "id": "wUjquxMxxmQO"
      },
      "execution_count": null,
      "outputs": []
    },
    {
      "cell_type": "code",
      "source": [
        "df = pd.read_csv(\"/content/file_lab3.csv\")\n",
        "\n",
        "# Check first few rows\n",
        "print(df.head())"
      ],
      "metadata": {
        "colab": {
          "base_uri": "https://localhost:8080/"
        },
        "id": "Tl-maJr1xnaR",
        "outputId": "f05bc00f-fa89-4177-dd4a-98b83fa2a377"
      },
      "execution_count": null,
      "outputs": [
        {
          "output_type": "stream",
          "name": "stdout",
          "text": [
            "                                       hash  \\\n",
            "0  9a90a96e96ca0a2d89b846e5f2d626092cea3a8d   \n",
            "1  9a90a96e96ca0a2d89b846e5f2d626092cea3a8d   \n",
            "2  c6a61daf929ded2400e82082805817ad51539eab   \n",
            "3  d0fcf873b96fe4e621ceeeb017d9c3048bdd49c3   \n",
            "4  d0fcf873b96fe4e621ceeeb017d9c3048bdd49c3   \n",
            "\n",
            "                                     message                      filename  \\\n",
            "0  FileUploader.onprogress event. Issue #534  examples/progress_bar_app.py   \n",
            "1  FileUploader.onprogress event. Issue #534                   remi/gui.py   \n",
            "2     Fixed classname in editor subclassing.              editor/editor.py   \n",
            "3               BugFix Link now works again.           editor/FBD_model.py   \n",
            "4               BugFix Link now works again.            editor/FBD_view.py   \n",
            "\n",
            "        LLM_inference_fix_type        LLM_rectified_message  \\\n",
            "0   add missing license header   add missing license header   \n",
            "1     add fileuploader example       update fileuploader.js   \n",
            "2  add classname to project.py  add classname to project.py   \n",
            "3              fix bugfix link              fix bugfix link   \n",
            "4              fix bugfix link              fix bugfix link   \n",
            "\n",
            "                                       source_before  \\\n",
            "0  \"\"\"\\n   Licensed under the Apache License, Ver...   \n",
            "1  \"\"\"\\n   Licensed under the Apache License, Ver...   \n",
            "2  \"\"\"\\n   Licensed under the Apache License, Ver...   \n",
            "3  import inspect\\n\\nclass Input():\\n    name = N...   \n",
            "4  \"\"\"\\n   Licensed under the Apache License, Ver...   \n",
            "\n",
            "                                      source_current  \\\n",
            "0                                                NaN   \n",
            "1  \"\"\"\\n   Licensed under the Apache License, Ver...   \n",
            "2  \"\"\"\\n   Licensed under the Apache License, Ver...   \n",
            "3  import inspect\\n\\nclass Input():\\n    name = N...   \n",
            "4  \"\"\"\\n   Licensed under the Apache License, Ver...   \n",
            "\n",
            "                                                diff  \n",
            "0  @@ -1,50 +0,0 @@\\n-\"\"\"\\n-   Licensed under the...  \n",
            "1  @@ -1582,18 +1582,6 @@ class HEAD(Tag):\\n     ...  \n",
            "2  @@ -444,7 +444,7 @@ class Project(gui.Containe...  \n",
            "3  @@ -85,10 +85,13 @@ class Link():\\n     destin...  \n",
            "4  @@ -133,37 +133,29 @@ class OutputView(FBD_mod...  \n"
          ]
        }
      ]
    },
    {
      "cell_type": "code",
      "source": [
        "total_commits = df['hash'].nunique()\n",
        "total_files = df['filename'].nunique()  # unique files across all commits\n",
        "\n",
        "print(f\"Total commits: {total_commits}\")\n",
        "print(f\"Total files: {total_files}\")"
      ],
      "metadata": {
        "colab": {
          "base_uri": "https://localhost:8080/"
        },
        "id": "3D0EtAy0tCB6",
        "outputId": "7605cc4b-f674-469a-b854-22162a29e045"
      },
      "execution_count": null,
      "outputs": [
        {
          "output_type": "stream",
          "name": "stdout",
          "text": [
            "Total commits: 443\n",
            "Total files: 115\n"
          ]
        }
      ]
    },
    {
      "cell_type": "code",
      "source": [
        "files_per_commit = df.groupby('hash')['filename'].count()\n",
        "avg_files_per_commit = files_per_commit.mean()\n",
        "\n",
        "print(f\"Average number of modified files per commit: {avg_files_per_commit:.2f}\")"
      ],
      "metadata": {
        "colab": {
          "base_uri": "https://localhost:8080/"
        },
        "id": "o9ReKguutJ3a",
        "outputId": "1f382f06-6d0c-4a22-8f07-8e2da69b0b55"
      },
      "execution_count": null,
      "outputs": [
        {
          "output_type": "stream",
          "name": "stdout",
          "text": [
            "Average number of modified files per commit: 1.80\n"
          ]
        }
      ]
    },
    {
      "cell_type": "code",
      "source": [
        "fix_type_distribution = df['LLM_inference_fix_type'].value_counts()\n",
        "print(\"Distribution of fix types:\\n\", fix_type_distribution)"
      ],
      "metadata": {
        "colab": {
          "base_uri": "https://localhost:8080/"
        },
        "id": "kq9mlNTCtKmh",
        "outputId": "d90a092c-d5a8-43c2-dedd-e7b0b2c9f680"
      },
      "execution_count": null,
      "outputs": [
        {
          "output_type": "stream",
          "name": "stdout",
          "text": [
            "Distribution of fix types:\n",
            " LLM_inference_fix_type\n",
            "add missing import                        21\n",
            "fix typo in example                       14\n",
            "update project.py                         13\n",
            "update editor.py                          12\n",
            "add missing docstring                     11\n",
            "                                          ..\n",
            "add bugfix for server                      1\n",
            "fix typo in test_threadedhttpserver.py     1\n",
            "add margin 0px to the example example      1\n",
            "fix typo in test_server_port.py            1\n",
            "update cell background image               1\n",
            "Name: count, Length: 530, dtype: int64\n"
          ]
        }
      ]
    },
    {
      "cell_type": "code",
      "source": [
        "import matplotlib.pyplot as plt\n",
        "fix_type_distribution.head(10).plot(kind='bar', title='Distribution of Fix Types')\n",
        "plt.xlabel('Fix Type')\n",
        "plt.ylabel('Count')\n",
        "plt.show()"
      ],
      "metadata": {
        "colab": {
          "base_uri": "https://localhost:8080/",
          "height": 713
        },
        "id": "rZ1H47iYtNnR",
        "outputId": "a0bc5374-72ab-48a6-d6ae-7f143483c61b"
      },
      "execution_count": null,
      "outputs": [
        {
          "output_type": "display_data",
          "data": {
            "text/plain": [
              "<Figure size 640x480 with 1 Axes>"
            ],
            "image/png": "[encoded data removed]"
          },
          "metadata": {}
        }
      ]
    },
    {
      "cell_type": "code",
      "source": [
        "# Extract file extension\n",
        "df['Extension'] = df['filename'].apply(lambda x: x.split('.')[-1] if '.' in x else 'none')\n",
        "\n",
        "# Count frequency\n",
        "extension_counts = df['Extension'].value_counts()\n",
        "print(\"Most frequently modified file extensions:\\n\", extension_counts.head(10))"
      ],
      "metadata": {
        "colab": {
          "base_uri": "https://localhost:8080/"
        },
        "id": "1BPDGrETtPiu",
        "outputId": "b6f9a4bd-77db-49f7-fce5-43f4eb61fedc"
      },
      "execution_count": null,
      "outputs": [
        {
          "output_type": "stream",
          "name": "stdout",
          "text": [
            "Most frequently modified file extensions:\n",
            " Extension\n",
            "py           685\n",
            "png           37\n",
            "md            33\n",
            "css           27\n",
            "yml            3\n",
            "ipynb          3\n",
            "woff2          2\n",
            "yaml           2\n",
            "woff           2\n",
            "gitignore      1\n",
            "Name: count, dtype: int64\n"
          ]
        }
      ]
    },
    {
      "cell_type": "code",
      "source": [
        "extension_counts.head(10).plot(kind='bar', title='Top 10 Modified File Extensions')\n",
        "plt.xlabel('File Extension')\n",
        "plt.ylabel('Count')\n",
        "plt.show()"
      ],
      "metadata": {
        "colab": {
          "base_uri": "https://localhost:8080/",
          "height": 520
        },
        "id": "QsPWFZ7OtT1u",
        "outputId": "2a7da86a-b149-40b4-d688-70bf845fcd7c"
      },
      "execution_count": null,
      "outputs": [
        {
          "output_type": "display_data",
          "data": {
            "text/plain": [
              "<Figure size 640x480 with 1 Axes>"
            ],
            "image/png": "[encoded data removed]"
          },
          "metadata": {}
        }
      ]
    },
    {
      "cell_type": "code",
      "source": [
        "pip install radon"
      ],
      "metadata": {
        "colab": {
          "base_uri": "https://localhost:8080/"
        },
        "id": "yd2Q-7pQuKJp",
        "outputId": "7843ef23-a175-448c-8f4a-b01f7b57da3c"
      },
      "execution_count": null,
      "outputs": [
        {
          "output_type": "stream",
          "name": "stdout",
          "text": [
            "Collecting radon\n",
            "  Downloading radon-6.0.1-py2.py3-none-any.whl.metadata (8.2 kB)\n",
            "Collecting mando<0.8,>=0.6 (from radon)\n",
            "  Downloading mando-0.7.1-py2.py3-none-any.whl.metadata (7.4 kB)\n",
            "Collecting colorama>=0.4.1 (from radon)\n",
            "  Downloading colorama-0.4.6-py2.py3-none-any.whl.metadata (17 kB)\n",
            "Requirement already satisfied: six in /usr/local/lib/python3.12/dist-packages (from mando<0.8,>=0.6->radon) (1.17.0)\n",
            "Downloading radon-6.0.1-py2.py3-none-any.whl (52 kB)\n",
            "\u001b[2K   \u001b[90m━━━━━━━━━━━━━━━━━━━━━━━━━━━━━━━━━━━━━━━━\u001b[0m \u001b[32m52.8/52.8 kB\u001b[0m \u001b[31m5.7 MB/s\u001b[0m eta \u001b[36m0:00:00\u001b[0m\n",
            "\u001b[?25hDownloading colorama-0.4.6-py2.py3-none-any.whl (25 kB)\n",
            "Downloading mando-0.7.1-py2.py3-none-any.whl (28 kB)\n",
            "Installing collected packages: mando, colorama, radon\n",
            "Successfully installed colorama-0.4.6 mando-0.7.1 radon-6.0.1\n"
          ]
        }
      ]
    },
    {
      "cell_type": "code",
      "source": [
        "import pandas as pd\n",
        "from radon.metrics import mi_visit, h_visit\n",
        "from radon.complexity import cc_visit\n",
        "import warnings"
      ],
      "metadata": {
        "id": "c-T5yyP-uNM0"
      },
      "execution_count": null,
      "outputs": []
    },
    {
      "cell_type": "code",
      "source": [
        "warnings.filterwarnings(\"ignore\", category=SyntaxWarning)"
      ],
      "metadata": {
        "id": "JJvM_ZY104TB"
      },
      "execution_count": null,
      "outputs": []
    },
    {
      "cell_type": "code",
      "source": [
        "def compute_metrics(code):\n",
        "    try:\n",
        "        mi = mi_visit(code, True)  # Maintainability Index\n",
        "        cc_list = cc_visit(code)   # list of CC per function/class\n",
        "        cc_total = sum([f.complexity for f in cc_list]) if cc_list else 0\n",
        "        loc_total = len(code.splitlines())\n",
        "        return mi, cc_total, loc_total\n",
        "    except Exception as e:\n",
        "        # In case of syntax errors or empty code\n",
        "        return None, None, None"
      ],
      "metadata": {
        "id": "u906eP8WuPur"
      },
      "execution_count": null,
      "outputs": []
    },
    {
      "cell_type": "code",
      "source": [
        "def safe_compute_metrics(code):\n",
        "    if not isinstance(code, str):\n",
        "        return None, None, None\n",
        "    # Escape all backslashes\n",
        "    code = code.replace(\"\\\\\", \"\\\\\\\\\")\n",
        "    return compute_metrics(code)"
      ],
      "metadata": {
        "id": "IwlPN2b7z6pP"
      },
      "execution_count": null,
      "outputs": []
    },
    {
      "cell_type": "code",
      "source": [
        "df[['MI_Before', 'CC_Before', 'LOC_Before']] = df['source_before'].apply(lambda code: pd.Series(compute_metrics(code)))\n",
        "df[['MI_After', 'CC_After', 'LOC_After']] = df['source_current'].apply(lambda code: pd.Series(compute_metrics(code)))"
      ],
      "metadata": {
        "id": "3HSurd3BuR3f"
      },
      "execution_count": null,
      "outputs": []
    },
    {
      "cell_type": "code",
      "source": [
        "df['MI_Change'] = df['MI_After'] - df['MI_Before']\n",
        "df['CC_Change'] = df['CC_After'] - df['CC_Before']\n",
        "df['LOC_Change'] = df['LOC_After'] - df['LOC_Before']"
      ],
      "metadata": {
        "id": "Z41Vzls02ZKF"
      },
      "execution_count": null,
      "outputs": []
    },
    {
      "cell_type": "code",
      "source": [
        "print(df[['filename','MI_Before','MI_After','MI_Change',\n",
        "                 'CC_Before','CC_After','CC_Change',\n",
        "                 'LOC_Before','LOC_After','LOC_Change']].head())"
      ],
      "metadata": {
        "colab": {
          "base_uri": "https://localhost:8080/"
        },
        "id": "fyrcizR82dSs",
        "outputId": "30a80884-d294-4fd6-8e4a-5ddafee6c032"
      },
      "execution_count": null,
      "outputs": [
        {
          "output_type": "stream",
          "name": "stdout",
          "text": [
            "                       filename  MI_Before   MI_After  MI_Change  CC_Before  \\\n",
            "0  examples/progress_bar_app.py  86.098769        NaN        NaN        5.0   \n",
            "1                   remi/gui.py   0.000000   0.000000   0.000000     1067.0   \n",
            "2              editor/editor.py   0.000000   0.000000   0.000000      303.0   \n",
            "3           editor/FBD_model.py  52.871978  52.373357  -0.498621       43.0   \n",
            "4            editor/FBD_view.py  28.564576  29.494908   0.930332      120.0   \n",
            "\n",
            "   CC_After  CC_Change  LOC_Before  LOC_After  LOC_Change  \n",
            "0       NaN        NaN        50.0        NaN         NaN  \n",
            "1    1066.0       -1.0      4909.0     4885.0       -24.0  \n",
            "2     303.0        0.0      1235.0     1234.0        -1.0  \n",
            "3      43.0        0.0       130.0      133.0         3.0  \n",
            "4     115.0       -5.0       553.0      541.0       -12.0  \n"
          ]
        }
      ]
    },
    {
      "cell_type": "code",
      "source": [
        "df_valid = df[df['MI_After'] != 0]\n",
        "summary = {\n",
        "    'Average_MI_Before': df['MI_Before'].mean(),\n",
        "    'Average_MI_After': df['MI_After'].mean(),\n",
        "    'Average_MI_Change': df['MI_Change'].mean(),\n",
        "    'Average_CC_Before': df['CC_Before'].mean(),\n",
        "    'Average_CC_After': df['CC_After'].mean(),\n",
        "    'Average_CC_Change': df['CC_Change'].mean(),\n",
        "    'Average_LOC_Before': df['LOC_Before'].mean(),\n",
        "    'Average_LOC_After': df['LOC_After'].mean(),\n",
        "    'Average_LOC_Change': df['LOC_Change'].mean(),\n",
        "}\n",
        "\n",
        "print(\"\\nSummary of Structural Metrics:\")\n",
        "for k,v in summary.items():\n",
        "    print(f\"{k}: {v:.2f}\")"
      ],
      "metadata": {
        "colab": {
          "base_uri": "https://localhost:8080/"
        },
        "id": "IDxSfJGz2hA8",
        "outputId": "c67a3384-8cc3-4f3b-e60d-6d8e24a09ff9"
      },
      "execution_count": null,
      "outputs": [
        {
          "output_type": "stream",
          "name": "stdout",
          "text": [
            "\n",
            "Summary of Structural Metrics:\n",
            "Average_MI_Before: 26.83\n",
            "Average_MI_After: 25.63\n",
            "Average_MI_Change: 0.22\n",
            "Average_CC_Before: 193.31\n",
            "Average_CC_After: 192.38\n",
            "Average_CC_Change: -1.03\n",
            "Average_LOC_Before: 981.97\n",
            "Average_LOC_After: 978.07\n",
            "Average_LOC_Change: -3.79\n"
          ]
        }
      ]
    },
    {
      "cell_type": "code",
      "source": [
        "df.to_csv(\"file_level_rectified_with_metrics.csv\", index=False)"
      ],
      "metadata": {
        "id": "NqzO_vuc2h8q"
      },
      "execution_count": null,
      "outputs": []
    },
    {
      "cell_type": "code",
      "source": [
        "from transformers import AutoTokenizer, AutoModel\n",
        "import torch\n",
        "from sklearn.metrics.pairwise import cosine_similarity\n",
        "\n",
        "# Load CodeBERT model\n",
        "tokenizer = AutoTokenizer.from_pretrained(\"microsoft/codebert-base\")\n",
        "model = AutoModel.from_pretrained(\"microsoft/codebert-base\")\n",
        "\n",
        "def compute_codebert_similarity(code1, code2):\n",
        "    if not isinstance(code1, str) or not isinstance(code2, str):\n",
        "        return 0.0\n",
        "\n",
        "    # Tokenize and get embeddings\n",
        "    inputs1 = tokenizer(code1, return_tensors=\"pt\", truncation=True, max_length=512)\n",
        "    inputs2 = tokenizer(code2, return_tensors=\"pt\", truncation=True, max_length=512)\n",
        "\n",
        "    with torch.no_grad():\n",
        "        emb1 = model(**inputs1).last_hidden_state.mean(dim=1)\n",
        "        emb2 = model(**inputs2).last_hidden_state.mean(dim=1)\n",
        "\n",
        "    sim = cosine_similarity(emb1.numpy(), emb2.numpy())[0][0]\n",
        "    return float(sim)"
      ],
      "metadata": {
        "id": "M81v3oXc4fqk"
      },
      "execution_count": null,
      "outputs": []
    },
    {
      "cell_type": "code",
      "source": [
        "import nltk\n",
        "nltk.download('punkt')\n",
        "nltk.download('punkt_tab')"
      ],
      "metadata": {
        "colab": {
          "base_uri": "https://localhost:8080/"
        },
        "id": "Il2vAhre4v2d",
        "outputId": "b0af4428-2df6-4a02-fcc1-bf39faa7e2f4"
      },
      "execution_count": null,
      "outputs": [
        {
          "output_type": "stream",
          "name": "stderr",
          "text": [
            "[nltk_data] Downloading package punkt to /root/nltk_data...\n",
            "[nltk_data]   Package punkt is already up-to-date!\n",
            "[nltk_data] Downloading package punkt_tab to /root/nltk_data...\n",
            "[nltk_data]   Package punkt_tab is already up-to-date!\n"
          ]
        },
        {
          "output_type": "execute_result",
          "data": {
            "text/plain": [
              "True"
            ]
          },
          "metadata": {},
          "execution_count": 49
        }
      ]
    },
    {
      "cell_type": "code",
      "source": [
        "from nltk.translate.bleu_score import sentence_bleu\n",
        "from nltk.tokenize import word_tokenize\n",
        "\n",
        "def compute_token_similarity(code1, code2):\n",
        "    if not isinstance(code1, str) or not isinstance(code2, str):\n",
        "        return 0.0\n",
        "\n",
        "    tokens1 = word_tokenize(code1)\n",
        "    tokens2 = word_tokenize(code2)\n",
        "\n",
        "    # BLEU score (1-gram by default)\n",
        "    score = sentence_bleu([tokens1], tokens2, weights=(1, 0, 0, 0))\n",
        "    return float(score)"
      ],
      "metadata": {
        "id": "pff761ez41e7"
      },
      "execution_count": null,
      "outputs": []
    },
    {
      "cell_type": "code",
      "source": [
        "# Compute semantic similarity\n",
        "df['Semantic_Similarity'] = df.apply(\n",
        "    lambda row: compute_codebert_similarity(row['source_before'], row['source_current']),\n",
        "    axis=1\n",
        ")\n",
        "\n",
        "# Compute token similarity\n",
        "df['Token_Similarity'] = df.apply(\n",
        "    lambda row: compute_token_similarity(row['source_before'], row['source_current']),\n",
        "    axis=1\n",
        ")\n",
        "\n",
        "# Inspect results\n",
        "print(df[['filename','Semantic_Similarity','Token_Similarity']].head())"
      ],
      "metadata": {
        "colab": {
          "base_uri": "https://localhost:8080/"
        },
        "id": "zYJnwNXv49e2",
        "outputId": "7c20be12-8dcc-4067-f69e-cfdaeece5d32"
      },
      "execution_count": null,
      "outputs": [
        {
          "output_type": "stream",
          "name": "stderr",
          "text": [
            "/usr/local/lib/python3.12/dist-packages/nltk/translate/bleu_score.py:577: UserWarning: \n",
            "The hypothesis contains 0 counts of 3-gram overlaps.\n",
            "Therefore the BLEU score evaluates to 0, independently of\n",
            "how many N-gram overlaps of lower order it contains.\n",
            "Consider using lower n-gram order or use SmoothingFunction()\n",
            "  warnings.warn(_msg)\n",
            "/usr/local/lib/python3.12/dist-packages/nltk/translate/bleu_score.py:577: UserWarning: \n",
            "The hypothesis contains 0 counts of 4-gram overlaps.\n",
            "Therefore the BLEU score evaluates to 0, independently of\n",
            "how many N-gram overlaps of lower order it contains.\n",
            "Consider using lower n-gram order or use SmoothingFunction()\n",
            "  warnings.warn(_msg)\n",
            "/usr/local/lib/python3.12/dist-packages/nltk/translate/bleu_score.py:577: UserWarning: \n",
            "The hypothesis contains 0 counts of 2-gram overlaps.\n",
            "Therefore the BLEU score evaluates to 0, independently of\n",
            "how many N-gram overlaps of lower order it contains.\n",
            "Consider using lower n-gram order or use SmoothingFunction()\n",
            "  warnings.warn(_msg)\n"
          ]
        },
        {
          "output_type": "stream",
          "name": "stdout",
          "text": [
            "                       filename  Semantic_Similarity  Token_Similarity\n",
            "0  examples/progress_bar_app.py                  0.0          0.000000\n",
            "1                   remi/gui.py                  1.0          0.995443\n",
            "2              editor/editor.py                  1.0          0.999356\n",
            "3           editor/FBD_model.py                  1.0          0.979817\n",
            "4            editor/FBD_view.py                  1.0          0.967715\n"
          ]
        }
      ]
    },
    {
      "cell_type": "code",
      "source": [
        "df.to_csv(\"file_level_rectified_with_all_metrics.csv\", index=False)"
      ],
      "metadata": {
        "id": "gReHQw0dnE6g"
      },
      "execution_count": null,
      "outputs": []
    },
    {
      "cell_type": "code",
      "source": [
        "import numpy as np\n",
        "\n",
        "# Define Semantic_class based on threshold\n",
        "df['Semantic_class'] = np.where(df['Semantic_Similarity'] >= 0.80, 'Minor', 'Major')\n",
        "\n",
        "# Define Token_class based on threshold\n",
        "df['Token_class'] = np.where(df['Token_Similarity'] >= 0.75, 'Minor', 'Major')\n",
        "\n",
        "# Create Classes_Agree column\n",
        "df['Classes_Agree'] = np.where(\n",
        "    df['Semantic_class'] == df['Token_class'],\n",
        "    'YES',\n",
        "    'NO'\n",
        ")\n",
        "\n",
        "# Inspect results\n",
        "print(df[['filename', 'Semantic_Similarity', 'Token_Similarity',\n",
        "                 'Semantic_class', 'Token_class', 'Classes_Agree']].head())"
      ],
      "metadata": {
        "colab": {
          "base_uri": "https://localhost:8080/"
        },
        "id": "fiSoC4lsqwzW",
        "outputId": "65070814-4caa-4458-b8f7-7bb34d82d088"
      },
      "execution_count": null,
      "outputs": [
        {
          "output_type": "stream",
          "name": "stdout",
          "text": [
            "                       filename  Semantic_Similarity  Token_Similarity  \\\n",
            "0  examples/progress_bar_app.py                  0.0          0.000000   \n",
            "1                   remi/gui.py                  1.0          0.995443   \n",
            "2              editor/editor.py                  1.0          0.999356   \n",
            "3           editor/FBD_model.py                  1.0          0.979817   \n",
            "4            editor/FBD_view.py                  1.0          0.967715   \n",
            "\n",
            "  Semantic_class Token_class Classes_Agree  \n",
            "0          Major       Major           YES  \n",
            "1          Minor       Minor           YES  \n",
            "2          Minor       Minor           YES  \n",
            "3          Minor       Minor           YES  \n",
            "4          Minor       Minor           YES  \n"
          ]
        }
      ]
    },
    {
      "cell_type": "code",
      "source": [
        "# Define thresholds\n",
        "semantic_threshold = 0.80\n",
        "token_threshold = 0.75\n",
        "\n",
        "# Add Semantic_class column\n",
        "df[\"Semantic_Class\"] = df[\"Semantic_Similarity\"].apply(\n",
        "    lambda x: \"Minor\" if x >= semantic_threshold else \"Major\"\n",
        ")\n",
        "\n",
        "# Add Token_class column\n",
        "df[\"Token_Class\"] = df[\"Token_Similarity\"].apply(\n",
        "    lambda x: \"Minor\" if x >= token_threshold else \"Major\"\n",
        ")\n",
        "\n",
        "# Add Classes_Agree column\n",
        "df[\"Classes_Agree\"] = df.apply(\n",
        "    lambda row: \"YES\" if row[\"Semantic_Class\"] == row[\"Token_Class\"] else \"NO\",\n",
        "    axis=1\n",
        ")\n",
        "\n",
        "# Display the updated table\n",
        "print(df.head())\n",
        "\n",
        "# Save final table\n",
        "df.to_csv(\"file_level_rectified_with_all_metrics_final.csv\", index=False)"
      ],
      "metadata": {
        "colab": {
          "base_uri": "https://localhost:8080/"
        },
        "id": "zf6CT3ohrYhh",
        "outputId": "2bfeb853-409c-4805-efcd-ae0cd7c9da9a"
      },
      "execution_count": null,
      "outputs": [
        {
          "output_type": "stream",
          "name": "stdout",
          "text": [
            "                                       hash  \\\n",
            "0  9a90a96e96ca0a2d89b846e5f2d626092cea3a8d   \n",
            "1  9a90a96e96ca0a2d89b846e5f2d626092cea3a8d   \n",
            "2  c6a61daf929ded2400e82082805817ad51539eab   \n",
            "3  d0fcf873b96fe4e621ceeeb017d9c3048bdd49c3   \n",
            "4  d0fcf873b96fe4e621ceeeb017d9c3048bdd49c3   \n",
            "\n",
            "                                     message                      filename  \\\n",
            "0  FileUploader.onprogress event. Issue #534  examples/progress_bar_app.py   \n",
            "1  FileUploader.onprogress event. Issue #534                   remi/gui.py   \n",
            "2     Fixed classname in editor subclassing.              editor/editor.py   \n",
            "3               BugFix Link now works again.           editor/FBD_model.py   \n",
            "4               BugFix Link now works again.            editor/FBD_view.py   \n",
            "\n",
            "        LLM_inference_fix_type        LLM_rectified_message  \\\n",
            "0   add missing license header   add missing license header   \n",
            "1     add fileuploader example       update fileuploader.js   \n",
            "2  add classname to project.py  add classname to project.py   \n",
            "3              fix bugfix link              fix bugfix link   \n",
            "4              fix bugfix link              fix bugfix link   \n",
            "\n",
            "                                       source_before  \\\n",
            "0  \"\"\"\\n   Licensed under the Apache License, Ver...   \n",
            "1  \"\"\"\\n   Licensed under the Apache License, Ver...   \n",
            "2  \"\"\"\\n   Licensed under the Apache License, Ver...   \n",
            "3  import inspect\\n\\nclass Input():\\n    name = N...   \n",
            "4  \"\"\"\\n   Licensed under the Apache License, Ver...   \n",
            "\n",
            "                                      source_current  \\\n",
            "0                                                NaN   \n",
            "1  \"\"\"\\n   Licensed under the Apache License, Ver...   \n",
            "2  \"\"\"\\n   Licensed under the Apache License, Ver...   \n",
            "3  import inspect\\n\\nclass Input():\\n    name = N...   \n",
            "4  \"\"\"\\n   Licensed under the Apache License, Ver...   \n",
            "\n",
            "                                                diff  MI_Before  CC_Before  \\\n",
            "0  @@ -1,50 +0,0 @@\\n-\"\"\"\\n-   Licensed under the...  86.098769        5.0   \n",
            "1  @@ -1582,18 +1582,6 @@ class HEAD(Tag):\\n     ...   0.000000     1067.0   \n",
            "2  @@ -444,7 +444,7 @@ class Project(gui.Containe...   0.000000      303.0   \n",
            "3  @@ -85,10 +85,13 @@ class Link():\\n     destin...  52.871978       43.0   \n",
            "4  @@ -133,37 +133,29 @@ class OutputView(FBD_mod...  28.564576      120.0   \n",
            "\n",
            "   ...  MI_Change  CC_Change  LOC_Change  Semantic_Similarity  \\\n",
            "0  ...   0.000000        0.0         0.0                  0.0   \n",
            "1  ...   0.000000       -1.0       -24.0                  1.0   \n",
            "2  ...   0.000000        0.0        -1.0                  1.0   \n",
            "3  ...  -0.498621        0.0         3.0                  1.0   \n",
            "4  ...   0.930332       -5.0       -12.0                  1.0   \n",
            "\n",
            "   Token_Similarity  Semantic_class  Token_class  Classes_Agree  \\\n",
            "0          0.000000           Major        Major            YES   \n",
            "1          0.995443           Minor        Minor            YES   \n",
            "2          0.999356           Minor        Minor            YES   \n",
            "3          0.979817           Minor        Minor            YES   \n",
            "4          0.967715           Minor        Minor            YES   \n",
            "\n",
            "   Semantic_Class Token_Class  \n",
            "0           Major       Major  \n",
            "1           Minor       Minor  \n",
            "2           Minor       Minor  \n",
            "3           Minor       Minor  \n",
            "4           Minor       Minor  \n",
            "\n",
            "[5 rows x 24 columns]\n"
          ]
        }
      ]
    }
  ]
}