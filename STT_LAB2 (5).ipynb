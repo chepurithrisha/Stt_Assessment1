{
  "nbformat": 4,
  "nbformat_minor": 0,
  "metadata": {
    "colab": {
      "provenance": [],
      "gpuType": "T4"
    },
    "kernelspec": {
      "name": "python3",
      "display_name": "Python 3"
    },
    "language_info": {
      "name": "python"
    },
    "accelerator": "GPU"
  },
  "cells": [
    {
      "cell_type": "code",
      "execution_count": null,
      "metadata": {
        "colab": {
          "base_uri": "https://localhost:8080/"
        },
        "id": "djQg-UX6yyab",
        "outputId": "36ba849c-6b38-4f71-da45-debfec879957"
      },
      "outputs": [
        {
          "output_type": "stream",
          "name": "stdout",
          "text": [
            "Collecting pydriller\n",
            "  Downloading pydriller-2.8-py3-none-any.whl.metadata (1.5 kB)\n",
            "Requirement already satisfied: gitpython in /usr/local/lib/python3.12/dist-packages (from pydriller) (3.1.45)\n",
            "Requirement already satisfied: pytz in /usr/local/lib/python3.12/dist-packages (from pydriller) (2025.2)\n",
            "Requirement already satisfied: types-pytz in /usr/local/lib/python3.12/dist-packages (from pydriller) (2025.2.0.20250809)\n",
            "Collecting lizard==1.17.10 (from pydriller)\n",
            "  Downloading lizard-1.17.10-py2.py3-none-any.whl.metadata (15 kB)\n",
            "Requirement already satisfied: gitdb<5,>=4.0.1 in /usr/local/lib/python3.12/dist-packages (from gitpython->pydriller) (4.0.12)\n",
            "Requirement already satisfied: smmap<6,>=3.0.1 in /usr/local/lib/python3.12/dist-packages (from gitdb<5,>=4.0.1->gitpython->pydriller) (5.0.2)\n",
            "Downloading pydriller-2.8-py3-none-any.whl (36 kB)\n",
            "Downloading lizard-1.17.10-py2.py3-none-any.whl (66 kB)\n",
            "\u001b[2K   \u001b[90m━━━━━━━━━━━━━━━━━━━━━━━━━━━━━━━━━━━━━━━━\u001b[0m \u001b[32m66.0/66.0 kB\u001b[0m \u001b[31m3.4 MB/s\u001b[0m eta \u001b[36m0:00:00\u001b[0m\n",
            "\u001b[?25hInstalling collected packages: lizard, pydriller\n",
            "Successfully installed lizard-1.17.10 pydriller-2.8\n"
          ]
        }
      ],
      "source": [
        "pip install pydriller"
      ]
    },
    {
      "cell_type": "code",
      "source": [
        "# https://github.com/rawpython/remi"
      ],
      "metadata": {
        "id": "7z2CBWBNy1hq"
      },
      "execution_count": null,
      "outputs": []
    },
    {
      "cell_type": "code",
      "source": [
        "!rm -rf remi   # delete any old copies\n",
        "\n",
        "!git clone https://github.com/rawpython/remi\n",
        "%cd remi\n",
        "\n",
        "!pip install GitPython pandas\n",
        "\n",
        "import os\n",
        "import git\n",
        "import pandas as pd\n",
        "\n",
        "repo_path = os.getcwd()\n",
        "repo = git.Repo(repo_path)   # now valid repo"
      ],
      "metadata": {
        "colab": {
          "base_uri": "https://localhost:8080/"
        },
        "id": "Ku5DBEba0Tz8",
        "outputId": "06713a60-0a45-4cc3-d58e-0c7a156880d3"
      },
      "execution_count": null,
      "outputs": [
        {
          "output_type": "stream",
          "name": "stdout",
          "text": [
            "Cloning into 'remi'...\n",
            "remote: Enumerating objects: 6818, done.\u001b[K\n",
            "remote: Counting objects: 100% (100/100), done.\u001b[K\n",
            "remote: Compressing objects: 100% (60/60), done.\u001b[K\n",
            "remote: Total 6818 (delta 48), reused 40 (delta 40), pack-reused 6718 (from 2)\u001b[K\n",
            "Receiving objects: 100% (6818/6818), 4.36 MiB | 12.60 MiB/s, done.\n",
            "Resolving deltas: 100% (4679/4679), done.\n",
            "/content/remi\n",
            "Requirement already satisfied: GitPython in /usr/local/lib/python3.12/dist-packages (3.1.45)\n",
            "Requirement already satisfied: pandas in /usr/local/lib/python3.12/dist-packages (2.2.2)\n",
            "Requirement already satisfied: gitdb<5,>=4.0.1 in /usr/local/lib/python3.12/dist-packages (from GitPython) (4.0.12)\n",
            "Requirement already satisfied: numpy>=1.26.0 in /usr/local/lib/python3.12/dist-packages (from pandas) (2.0.2)\n",
            "Requirement already satisfied: python-dateutil>=2.8.2 in /usr/local/lib/python3.12/dist-packages (from pandas) (2.9.0.post0)\n",
            "Requirement already satisfied: pytz>=2020.1 in /usr/local/lib/python3.12/dist-packages (from pandas) (2025.2)\n",
            "Requirement already satisfied: tzdata>=2022.7 in /usr/local/lib/python3.12/dist-packages (from pandas) (2025.2)\n",
            "Requirement already satisfied: smmap<6,>=3.0.1 in /usr/local/lib/python3.12/dist-packages (from gitdb<5,>=4.0.1->GitPython) (5.0.2)\n",
            "Requirement already satisfied: six>=1.5 in /usr/local/lib/python3.12/dist-packages (from python-dateutil>=2.8.2->pandas) (1.17.0)\n"
          ]
        }
      ]
    },
    {
      "cell_type": "code",
      "source": [
        "def is_bug_fix_commit(message):\n",
        "    \"\"\"\n",
        "    Define bug-fix commits heuristically:\n",
        "    Commit messages containing keywords like 'fix', 'bug', 'issue', 'error'\n",
        "    \"\"\"\n",
        "    keywords = ['fixed', 'bug', 'fixes', 'fix', 'crash', 'solves',\n",
        "                'resolves', 'issue', 'regression', 'fall back',\n",
        "                'assertion', 'converity', 'reproducible', 'stack-wanted',\n",
        "                'steps-wanted', 'testcase', 'failur', 'fail', 'npe',\n",
        "                'except', 'broken', 'differential testing', 'error',\n",
        "                'hang', 'test fix', 'steps to reproduce', 'crash',\n",
        "                'assertion', 'failure', 'leak', 'stack trace', 'heap overflow',\n",
        "                'freez', 'problem', 'overflow', 'avoid', 'workaround', 'break', 'stop']\n",
        "    msg_lower = message.lower()\n",
        "    return any(kw in msg_lower for kw in keywords)\n",
        "\n",
        "bug_fix_commits = []\n",
        "for commit in repo.iter_commits(\"master\"):  # branch = main\n",
        "    if is_bug_fix_commit(commit.message):\n",
        "        bug_fix_commits.append({\n",
        "            \"hash\": commit.hexsha,\n",
        "            \"message\": commit.message.strip(),\n",
        "            \"parent_hashes\": [p.hexsha for p in commit.parents],\n",
        "            \"is_merge\": len(commit.parents) > 1,\n",
        "            \"modified_files\": [diff.a_path if diff.a_path else diff.b_path\n",
        "                               for diff in commit.diff(commit.parents[0])\n",
        "                               ] if commit.parents else []\n",
        "        })\n",
        "\n",
        "# Save to CSV\n",
        "bugfix_df = pd.DataFrame(bug_fix_commits)\n",
        "bugfix_df.to_csv(\"/content/bug_fix_commits.csv\", index=False)\n",
        "print(\"Saved bug_fix_commits.csv\")\n",
        "\n",
        "file_diffs = []\n",
        "for commit_data in bug_fix_commits:\n",
        "    commit = repo.commit(commit_data[\"hash\"])\n",
        "    if not commit.parents:  # skip root commit\n",
        "        continue\n",
        "\n",
        "    parent = commit.parents[0]\n",
        "    diffs = commit.diff(parent, create_patch=True)\n",
        "\n",
        "    for diff in diffs:\n",
        "        try:\n",
        "            file_name = diff.b_path if diff.b_path else diff.a_path\n",
        "            before_code = \"\"\n",
        "            current_code = \"\"\n",
        "            if diff.a_blob:\n",
        "                before_code = diff.a_blob.data_stream.read().decode(\"utf-8\", errors=\"ignore\")\n",
        "            if diff.b_blob:\n",
        "                current_code = diff.b_blob.data_stream.read().decode(\"utf-8\", errors=\"ignore\")\n",
        "\n",
        "            file_diffs.append({\n",
        "                \"hash\": commit.hexsha,\n",
        "                \"message\": commit.message.strip(),\n",
        "                \"filename\": file_name,\n",
        "                \"source_before\": before_code,\n",
        "                \"source_current\": current_code,\n",
        "                \"diff\": diff.diff.decode(\"utf-8\", errors=\"ignore\"),\n",
        "                \"LLM_inference\": \"\",   # Placeholder for fix type classification\n",
        "                \"rectified_message\": \"\" # Placeholder for auto-refined commit msg\n",
        "            })\n",
        "        except Exception as e:\n",
        "            print(f\"Error processing diff for {commit.hexsha}: {e}\")\n",
        "\n",
        "# Save to CSV\n",
        "filediff_df = pd.DataFrame(file_diffs)\n",
        "filediff_df.to_csv(\"/content/file_level_diffs.csv\", index=False)\n",
        "print(\"Saved file_level_diffs.csv\")"
      ],
      "metadata": {
        "colab": {
          "base_uri": "https://localhost:8080/"
        },
        "id": "dB97IhgIy3iM",
        "outputId": "7ca240db-74d8-4ba1-b867-afb8a5bb528d"
      },
      "execution_count": null,
      "outputs": [
        {
          "output_type": "stream",
          "name": "stdout",
          "text": [
            "Saved bug_fix_commits.csv\n",
            "Saved file_level_diffs.csv\n"
          ]
        }
      ]
    },
    {
      "cell_type": "code",
      "source": [
        "df = pd.read_csv(\"/content/bug_fix_commits.csv\")\n",
        "\n",
        "# Check first few rows\n",
        "print(df.head())"
      ],
      "metadata": {
        "colab": {
          "base_uri": "https://localhost:8080/"
        },
        "id": "_tn7e8qbdBXE",
        "outputId": "6e2af303-0830-4e61-badf-87df4a023308"
      },
      "execution_count": null,
      "outputs": [
        {
          "output_type": "stream",
          "name": "stdout",
          "text": [
            "                                       hash  \\\n",
            "0  9a90a96e96ca0a2d89b846e5f2d626092cea3a8d   \n",
            "1  c6a61daf929ded2400e82082805817ad51539eab   \n",
            "2  d0fcf873b96fe4e621ceeeb017d9c3048bdd49c3   \n",
            "3  005d6b0183a695388c2d57f77c2c2d8837eab3e1   \n",
            "4  e591bef9bc67238730db9fe6457381dc12baff64   \n",
            "\n",
            "                                     message  \\\n",
            "0  FileUploader.onprogress event. Issue #534   \n",
            "1     Fixed classname in editor subclassing.   \n",
            "2               BugFix Link now works again.   \n",
            "3                   Process example changes.   \n",
            "4                   Process example changes.   \n",
            "\n",
            "                                  parent_hashes  is_merge  \\\n",
            "0  ['4be71eb0ab15ade4a6e327a74ad329838e8ec022']     False   \n",
            "1  ['e2d6107d6d29a2c60a97b46f25429ac6f124ab3b']     False   \n",
            "2  ['3d320de6665ea4a679a1e916f337b300d500b765']     False   \n",
            "3  ['e591bef9bc67238730db9fe6457381dc12baff64']     False   \n",
            "4  ['d9cd7801c4ba2cd11fde848db3ed8f1b055ddb50']     False   \n",
            "\n",
            "                                    modified_files  \n",
            "0  ['examples/progress_bar_app.py', 'remi/gui.py']  \n",
            "1                             ['editor/editor.py']  \n",
            "2    ['editor/FBD_model.py', 'editor/FBD_view.py']  \n",
            "3               ['examples/others/process_app.py']  \n",
            "4               ['examples/others/process_app.py']  \n"
          ]
        }
      ]
    },
    {
      "cell_type": "code",
      "source": [
        "df = pd.read_csv(\"/content/file_level_diffs.csv\")\n",
        "print(df.head())"
      ],
      "metadata": {
        "colab": {
          "base_uri": "https://localhost:8080/"
        },
        "id": "WiqmSVWmdHiZ",
        "outputId": "6a9b766e-e5b5-4db0-8d17-604d19196073"
      },
      "execution_count": null,
      "outputs": [
        {
          "output_type": "stream",
          "name": "stdout",
          "text": [
            "                                       hash  \\\n",
            "0  9a90a96e96ca0a2d89b846e5f2d626092cea3a8d   \n",
            "1  9a90a96e96ca0a2d89b846e5f2d626092cea3a8d   \n",
            "2  c6a61daf929ded2400e82082805817ad51539eab   \n",
            "3  d0fcf873b96fe4e621ceeeb017d9c3048bdd49c3   \n",
            "4  d0fcf873b96fe4e621ceeeb017d9c3048bdd49c3   \n",
            "\n",
            "                                     message                      filename  \\\n",
            "0  FileUploader.onprogress event. Issue #534  examples/progress_bar_app.py   \n",
            "1  FileUploader.onprogress event. Issue #534                   remi/gui.py   \n",
            "2     Fixed classname in editor subclassing.              editor/editor.py   \n",
            "3               BugFix Link now works again.           editor/FBD_model.py   \n",
            "4               BugFix Link now works again.            editor/FBD_view.py   \n",
            "\n",
            "                                       source_before  \\\n",
            "0  \"\"\"\\n   Licensed under the Apache License, Ver...   \n",
            "1  \"\"\"\\n   Licensed under the Apache License, Ver...   \n",
            "2  \"\"\"\\n   Licensed under the Apache License, Ver...   \n",
            "3  import inspect\\n\\nclass Input():\\n    name = N...   \n",
            "4  \"\"\"\\n   Licensed under the Apache License, Ver...   \n",
            "\n",
            "                                      source_current  \\\n",
            "0                                                NaN   \n",
            "1  \"\"\"\\n   Licensed under the Apache License, Ver...   \n",
            "2  \"\"\"\\n   Licensed under the Apache License, Ver...   \n",
            "3  import inspect\\n\\nclass Input():\\n    name = N...   \n",
            "4  \"\"\"\\n   Licensed under the Apache License, Ver...   \n",
            "\n",
            "                                                diff  LLM_inference  \\\n",
            "0  @@ -1,50 +0,0 @@\\n-\"\"\"\\n-   Licensed under the...            NaN   \n",
            "1  @@ -1582,18 +1582,6 @@ class HEAD(Tag):\\n     ...            NaN   \n",
            "2  @@ -444,7 +444,7 @@ class Project(gui.Containe...            NaN   \n",
            "3  @@ -85,10 +85,13 @@ class Link():\\n     destin...            NaN   \n",
            "4  @@ -133,37 +133,29 @@ class OutputView(FBD_mod...            NaN   \n",
            "\n",
            "   rectified_message  \n",
            "0                NaN  \n",
            "1                NaN  \n",
            "2                NaN  \n",
            "3                NaN  \n",
            "4                NaN  \n"
          ]
        }
      ]
    },
    {
      "cell_type": "code",
      "source": [
        "!pip install --quiet transformers sentencepiece\n",
        "from transformers import AutoTokenizer, AutoModelForSeq2SeqLM\n",
        "import pandas as pd\n",
        "from tqdm import tqdm\n",
        "MODEL_NAME = \"mamiksik/CommitPredictorT5\"\n",
        "tokenizer = AutoTokenizer.from_pretrained(MODEL_NAME)\n",
        "model = AutoModelForSeq2SeqLM.from_pretrained(MODEL_NAME)\n",
        "print(\"CommitPredictorT5 loaded\")\n",
        "df = pd.read_csv(\"/content/file_level_diffs.csv\")\n",
        "print(\"Loaded diffs:\", df.shape)\n",
        "def predict_fix_type(diff, original_msg, max_length=32):\n",
        "    \"\"\"\n",
        "    Use CommitPredictorT5 to predict only the fix type (short label).\n",
        "    Input is truncated to keep speed/memory low.\n",
        "    \"\"\"\n",
        "    input_text = f\"classify type | diff: {diff[:300]} message: {original_msg}\"  # shorter input\n",
        "\n",
        "    inputs = tokenizer(input_text, return_tensors=\"pt\", truncation=True, padding=True)\n",
        "    outputs = model.generate(**inputs, max_length=max_length, num_beams=2)  # fewer beams = faster\n",
        "    prediction = tokenizer.decode(outputs[0], skip_special_tokens=True)\n",
        "    return prediction.strip()\n",
        "fix_types = []\n",
        "for i, row in tqdm(df.iterrows(), total=len(df)):\n",
        "    diff = row[\"diff\"] if isinstance(row[\"diff\"], str) else \"\"\n",
        "    message = row[\"message\"] if isinstance(row[\"message\"], str) else \"\"\n",
        "    try:\n",
        "        prediction = predict_fix_type(diff, message)\n",
        "        fix_types.append(prediction)\n",
        "    except Exception as e:\n",
        "        fix_types.append(f\"error: {e}\")\n",
        "df[\"LLM_inference_fix_type\"] = fix_types\n",
        "df[[\"hash\", \"message\", \"filename\", \"diff\", \"LLM_inference_fix_type\"]].to_csv(\n",
        "    \"/content/file_level_diffs_fix_types.csv\", index=False\n",
        ")\n",
        "print(\"Saved file_level_diffs_fix_types.csv (only fix type)\")"
      ],
      "metadata": {
        "colab": {
          "base_uri": "https://localhost:8080/"
        },
        "id": "tH9Z7j1e0yE5",
        "outputId": "717d3570-3098-4bd7-9e41-e14e0c5e5930"
      },
      "execution_count": null,
      "outputs": [
        {
          "output_type": "stream",
          "name": "stdout",
          "text": [
            "CommitPredictorT5 loaded\n",
            "Loaded diffs: (797, 8)\n"
          ]
        },
        {
          "output_type": "stream",
          "name": "stderr",
          "text": [
            "100%|██████████| 797/797 [23:25<00:00,  1.76s/it]"
          ]
        },
        {
          "output_type": "stream",
          "name": "stdout",
          "text": [
            "Saved file_level_diffs_fix_types.csv (only fix type)\n"
          ]
        },
        {
          "output_type": "stream",
          "name": "stderr",
          "text": [
            "\n"
          ]
        }
      ]
    },
    {
      "cell_type": "code",
      "source": [
        "df = pd.read_csv(\"/content/file_level_diffs_fix_types.csv\")\n",
        "\n",
        "# Check first few rows\n",
        "print(df.head())"
      ],
      "metadata": {
        "colab": {
          "base_uri": "https://localhost:8080/"
        },
        "id": "fA-XdWjyi4E7",
        "outputId": "bdecb934-b518-48d1-859e-6b57eaf72a6f"
      },
      "execution_count": null,
      "outputs": [
        {
          "output_type": "stream",
          "name": "stdout",
          "text": [
            "                                       hash  \\\n",
            "0  9a90a96e96ca0a2d89b846e5f2d626092cea3a8d   \n",
            "1  9a90a96e96ca0a2d89b846e5f2d626092cea3a8d   \n",
            "2  c6a61daf929ded2400e82082805817ad51539eab   \n",
            "3  d0fcf873b96fe4e621ceeeb017d9c3048bdd49c3   \n",
            "4  d0fcf873b96fe4e621ceeeb017d9c3048bdd49c3   \n",
            "\n",
            "                                     message                      filename  \\\n",
            "0  FileUploader.onprogress event. Issue #534  examples/progress_bar_app.py   \n",
            "1  FileUploader.onprogress event. Issue #534                   remi/gui.py   \n",
            "2     Fixed classname in editor subclassing.              editor/editor.py   \n",
            "3               BugFix Link now works again.           editor/FBD_model.py   \n",
            "4               BugFix Link now works again.            editor/FBD_view.py   \n",
            "\n",
            "                                                diff  \\\n",
            "0  @@ -1,50 +0,0 @@\\n-\"\"\"\\n-   Licensed under the...   \n",
            "1  @@ -1582,18 +1582,6 @@ class HEAD(Tag):\\n     ...   \n",
            "2  @@ -444,7 +444,7 @@ class Project(gui.Containe...   \n",
            "3  @@ -85,10 +85,13 @@ class Link():\\n     destin...   \n",
            "4  @@ -133,37 +133,29 @@ class OutputView(FBD_mod...   \n",
            "\n",
            "        LLM_inference_fix_type  \n",
            "0   add missing license header  \n",
            "1     add fileuploader example  \n",
            "2  add classname to project.py  \n",
            "3              fix bugfix link  \n",
            "4              fix bugfix link  \n"
          ]
        }
      ]
    },
    {
      "cell_type": "code",
      "source": [
        "df = pd.read_csv(\"/content/file_level_diffs_fix_types.csv\")\n",
        "def predict_rectified_message(diff, original_msg, max_length=64):\n",
        "    \"\"\"\n",
        "    Use CommitPredictorT5 to generate a rectified commit message.\n",
        "    Input: file diff + original message.\n",
        "    Output: improved/rectified commit message.\n",
        "    \"\"\"\n",
        "    input_text = f\"rectify message | diff: {diff[:400]} message: {original_msg}\"\n",
        "\n",
        "    inputs = tokenizer(input_text, return_tensors=\"pt\", truncation=True, padding=True)\n",
        "    outputs = model.generate(**inputs, max_length=max_length, num_beams=4)\n",
        "    prediction = tokenizer.decode(outputs[0], skip_special_tokens=True)\n",
        "\n",
        "    return prediction.strip()\n",
        "\n",
        "\n",
        "rectified_messages = []\n",
        "\n",
        "for i, row in tqdm(df.iterrows(), total=len(df)):\n",
        "    diff = row[\"diff\"] if isinstance(row[\"diff\"], str) else \"\"\n",
        "    message = row[\"message\"] if isinstance(row[\"message\"], str) else \"\"\n",
        "\n",
        "    try:\n",
        "        prediction = predict_rectified_message(diff, message)\n",
        "        rectified_messages.append(prediction)\n",
        "    except Exception as e:\n",
        "        rectified_messages.append(f\"error: {e}\")\n",
        "\n",
        "# Add the rectified message column\n",
        "df[\"LLM_rectified_message\"] = rectified_messages\n",
        "\n",
        "df[[\"hash\", \"message\", \"filename\", \"diff\", \"LLM_inference_fix_type\", \"LLM_rectified_message\"]].to_csv(\n",
        "    \"/content/file_level_diffs_fix_types_rectified.csv\", index=False\n",
        ")\n",
        "\n",
        "print(\"Saved file_level_diffs_fix_types_rectified.csv (fix type + rectified message)\")"
      ],
      "metadata": {
        "colab": {
          "base_uri": "https://localhost:8080/"
        },
        "id": "L5pKRXGZ_-r9",
        "outputId": "7c3b03f4-219b-4ef7-b63e-4ea07d4507e0"
      },
      "execution_count": null,
      "outputs": [
        {
          "output_type": "stream",
          "name": "stderr",
          "text": [
            "100%|██████████| 797/797 [28:29<00:00,  2.14s/it]"
          ]
        },
        {
          "output_type": "stream",
          "name": "stdout",
          "text": [
            "Saved file_level_diffs_fix_types_rectified.csv (fix type + rectified message)\n"
          ]
        },
        {
          "output_type": "stream",
          "name": "stderr",
          "text": [
            "\n"
          ]
        }
      ]
    },
    {
      "cell_type": "code",
      "source": [
        "df = pd.read_csv(\"/content/file_level_diffs_fix_types_rectified.csv\")\n",
        "\n",
        "# Check first few rows\n",
        "print(df.head())"
      ],
      "metadata": {
        "id": "tiDqEuvBjAoW",
        "colab": {
          "base_uri": "https://localhost:8080/"
        },
        "outputId": "6bda075b-a563-4c62-e01f-dcfd3e95666b"
      },
      "execution_count": null,
      "outputs": [
        {
          "output_type": "stream",
          "name": "stdout",
          "text": [
            "                                       hash  \\\n",
            "0  9a90a96e96ca0a2d89b846e5f2d626092cea3a8d   \n",
            "1  9a90a96e96ca0a2d89b846e5f2d626092cea3a8d   \n",
            "2  c6a61daf929ded2400e82082805817ad51539eab   \n",
            "3  d0fcf873b96fe4e621ceeeb017d9c3048bdd49c3   \n",
            "4  d0fcf873b96fe4e621ceeeb017d9c3048bdd49c3   \n",
            "\n",
            "                                     message                      filename  \\\n",
            "0  FileUploader.onprogress event. Issue #534  examples/progress_bar_app.py   \n",
            "1  FileUploader.onprogress event. Issue #534                   remi/gui.py   \n",
            "2     Fixed classname in editor subclassing.              editor/editor.py   \n",
            "3               BugFix Link now works again.           editor/FBD_model.py   \n",
            "4               BugFix Link now works again.            editor/FBD_view.py   \n",
            "\n",
            "                                                diff  \\\n",
            "0  @@ -1,50 +0,0 @@\\n-\"\"\"\\n-   Licensed under the...   \n",
            "1  @@ -1582,18 +1582,6 @@ class HEAD(Tag):\\n     ...   \n",
            "2  @@ -444,7 +444,7 @@ class Project(gui.Containe...   \n",
            "3  @@ -85,10 +85,13 @@ class Link():\\n     destin...   \n",
            "4  @@ -133,37 +133,29 @@ class OutputView(FBD_mod...   \n",
            "\n",
            "        LLM_inference_fix_type        LLM_rectified_message  \n",
            "0   add missing license header   add missing license header  \n",
            "1     add fileuploader example       update fileuploader.js  \n",
            "2  add classname to project.py  add classname to project.py  \n",
            "3              fix bugfix link              fix bugfix link  \n",
            "4              fix bugfix link              fix bugfix link  \n"
          ]
        }
      ]
    },
    {
      "cell_type": "code",
      "source": [
        "!pip install -q sentence-transformers\n",
        "\n",
        "from sentence_transformers import SentenceTransformer, util\n",
        "\n",
        "# Load a semantic model\n",
        "sem_model = SentenceTransformer('all-MiniLM-L6-v2')\n",
        "\n",
        "def semantic_score(diff, msg):\n",
        "    \"\"\"Return cosine similarity between diff and commit message.\"\"\"\n",
        "    if not isinstance(diff, str) or not isinstance(msg, str):\n",
        "        return 0.0\n",
        "    embeddings = sem_model.encode([diff, msg], convert_to_tensor=True)\n",
        "    return float(util.cos_sim(embeddings[0], embeddings[1]))\n",
        "\n",
        "# Compute semantic scores\n",
        "df[\"Dev_semantic\"] = df.apply(lambda row: semantic_score(row[\"diff\"], row[\"message\"]), axis=1)\n",
        "df[\"LLM_semantic\"] = df.apply(lambda row: semantic_score(row[\"diff\"], row[\"LLM_inference_fix_type\"]), axis=1)\n",
        "df[\"Rect_semantic\"] = df.apply(lambda row: semantic_score(row[\"diff\"], row[\"LLM_rectified_message\"]), axis=1)\n",
        "\n",
        "# Threshold for \"precise\" (tuneable, e.g., 0.4)\n",
        "threshold = 0.4\n",
        "df[\"Dev_semantic_precise\"] = df[\"Dev_semantic\"] >= threshold\n",
        "df[\"LLM_semantic_precise\"] = df[\"LLM_semantic\"] >= threshold\n",
        "df[\"Rect_semantic_precise\"] = df[\"Rect_semantic\"] >= threshold\n",
        "\n",
        "# Hit rates vs gold (semantic version)\n",
        "results_semantic = {\n",
        "    \"RQ1_Developer_SemHit\": df[\"Dev_semantic_precise\"].mean(),\n",
        "    \"RQ2_LLM_SemHit\": df[\"LLM_semantic_precise\"].mean(),\n",
        "    \"RQ3_Rectifier_SemHit\": df[\"Rect_semantic_precise\"].mean(),\n",
        "}\n",
        "\n",
        "print(\"=== Semantic Evaluation Results ===\")\n",
        "for k, v in results_semantic.items():\n",
        "    print(f\"{k}: {v:.2%}\")"
      ],
      "metadata": {
        "colab": {
          "base_uri": "https://localhost:8080/"
        },
        "id": "hM7F677KmpIW",
        "outputId": "81cd4442-7a74-473d-d00b-75404cce8e54"
      },
      "execution_count": null,
      "outputs": [
        {
          "output_type": "stream",
          "name": "stdout",
          "text": [
            "=== Semantic Evaluation Results ===\n",
            "RQ1_Developer_SemHit: 30.99%\n",
            "RQ2_LLM_SemHit: 39.02%\n",
            "RQ3_Rectifier_SemHit: 45.67%\n"
          ]
        }
      ]
    },
    {
      "cell_type": "code",
      "source": [
        "plt.figure(figsize=(8,4))\n",
        "plt.hist(df[\"Dev_semantic\"], bins=20, alpha=0.5, label='Developer')\n",
        "plt.hist(df[\"LLM_semantic\"], bins=20, alpha=0.5, label='LLM')\n",
        "plt.hist(df[\"Rect_semantic\"], bins=20, alpha=0.5, label='Rectifier')\n",
        "plt.xlabel(\"Semantic Similarity\")\n",
        "plt.ylabel(\"Number of Commits\")\n",
        "plt.title(\"Distribution of Semantic Similarity Scores\")\n",
        "plt.legend()\n",
        "plt.show()"
      ],
      "metadata": {
        "id": "narMLBgaquAU",
        "colab": {
          "base_uri": "https://localhost:8080/",
          "height": 410
        },
        "outputId": "0fb01285-e545-4f19-f5a2-a986c0e0d4e3"
      },
      "execution_count": null,
      "outputs": [
        {
          "output_type": "display_data",
          "data": {
            "text/plain": [
              "<Figure size 800x400 with 1 Axes>"
            ],
            "image/png": "[encoded data removed]"
          },
          "metadata": {}
        }
      ]
    },
    {
      "cell_type": "code",
      "source": [
        "import matplotlib.pyplot as plt\n",
        "import seaborn as sns\n",
        "\n",
        "# Prepare semantic results\n",
        "semantic_table = pd.DataFrame({\n",
        "    \"Evaluation\": [\"Developer (RQ1)\", \"LLM (RQ2)\", \"Rectifier (RQ3)\"],\n",
        "    \"Semantic_HitRate\": [\n",
        "        results_semantic[\"RQ1_Developer_SemHit\"],\n",
        "        results_semantic[\"RQ2_LLM_SemHit\"],\n",
        "        results_semantic[\"RQ3_Rectifier_SemHit\"]\n",
        "    ]\n",
        "})\n",
        "\n",
        "print(\"\\n=== Semantic Evaluation Table ===\")\n",
        "print(semantic_table)\n",
        "\n",
        "# Bar plot\n",
        "plt.figure(figsize=(7,5))\n",
        "sns.barplot(x=\"Evaluation\", y=\"Semantic_HitRate\", data=semantic_table, palette=\"Greens_d\")\n",
        "\n",
        "plt.title(\"Semantic Hit Rate Comparison (RQ1 vs RQ2 vs RQ3)\")\n",
        "plt.ylabel(\"Hit Rate\")\n",
        "plt.ylim(0,1)  # normalize scale 0–1\n",
        "plt.xlabel(\"\")\n",
        "plt.xticks(rotation=20)\n",
        "plt.show()"
      ],
      "metadata": {
        "colab": {
          "base_uri": "https://localhost:8080/",
          "height": 697
        },
        "id": "NDnY2GlMouu6",
        "outputId": "9a4d8bbd-0cdf-412b-d277-15fec7ab0c18"
      },
      "execution_count": null,
      "outputs": [
        {
          "output_type": "stream",
          "name": "stdout",
          "text": [
            "\n",
            "=== Semantic Evaluation Table ===\n",
            "        Evaluation  Semantic_HitRate\n",
            "0  Developer (RQ1)          0.309912\n",
            "1        LLM (RQ2)          0.390213\n",
            "2  Rectifier (RQ3)          0.456713\n"
          ]
        },
        {
          "output_type": "stream",
          "name": "stderr",
          "text": [
            "/tmp/ipython-input-2103953005.py:19: FutureWarning: \n",
            "\n",
            "Passing `palette` without assigning `hue` is deprecated and will be removed in v0.14.0. Assign the `x` variable to `hue` and set `legend=False` for the same effect.\n",
            "\n",
            "  sns.barplot(x=\"Evaluation\", y=\"Semantic_HitRate\", data=semantic_table, palette=\"Greens_d\")\n"
          ]
        },
        {
          "output_type": "display_data",
          "data": {
            "text/plain": [
              "<Figure size 700x500 with 1 Axes>"
            ],
            "image/png": "[encoded data removed]"
          },
          "metadata": {}
        }
      ]
    }
  ]
}